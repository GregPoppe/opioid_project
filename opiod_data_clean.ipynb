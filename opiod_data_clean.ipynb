{
 "cells": [
  {
   "cell_type": "code",
   "execution_count": null,
   "metadata": {},
   "outputs": [],
   "source": [
    "%matplotlib inline\n",
    "import pandas as pd\n",
    "import numpy as np\n",
    "import matplotlib.pyplot as plt"
   ]
  },
  {
   "cell_type": "code",
   "execution_count": null,
   "metadata": {},
   "outputs": [],
   "source": [
    "#Function(s) to clean up known outliers in 'VALUES' column of opiod data set\n",
    "#This processing is specifc to current set of known outliers\n",
    "\n",
    "#Look for characters \"+\", \"-\", \"<\" and take numeric value before, after, after repsectively\n",
    "#   e.g \"30+\" -> 30, \"2-3.5\" -> 3.5, \"<2\" -> 2\n",
    "\n",
    "\n",
    "#Primary function for clean up, DataSeries input, check each known outlier\n",
    "#\n",
    "def clean_nan (incol) :\n",
    "    \n",
    "    if pd.api.types.is_numeric_dtype(incol) :      # if Series already numeric\n",
    "        return incol                               # No processing to be done, return\n",
    "    \n",
    "    dfs = pd.to_numeric(incol, errors='coerce')    # Convert to numeric, outliers to NaN\n",
    "    if (dfs.isna().sum()) > 0 :                    # If outliers present, convert known items\n",
    "        dfs = getnum (incol, '+', fromend=False)\n",
    "        dfs = getnum (dfs, '-')\n",
    "        dfs = pd.to_numeric(getnum (dfs, '<'), errors='coerce')\n",
    "    return dfs\n",
    "     \n",
    "#Secondary function for clean up, split string based on \n",
    "\n",
    "def getnum (incol, str, fromend=True) :\n",
    "    \n",
    "    dfs = incol.str.split(str, n=2, expand=True)    # Split object on known delimeter\n",
    "    \n",
    "    if len(dfs.columns) == 2 :                      # If delimeter present\n",
    "        if fromend :                                # Take numeric from before/after delimeter\n",
    "            mask = ~(dfs[1].isnull())\n",
    "            dfs.loc[mask,0] = dfs.loc[mask,1]\n",
    "        return dfs[0]                               # Return extracted numeric\n",
    "    \n",
    "    else :\n",
    "        return incol                                # No delimeter present, return input\n"
   ]
  },
  {
   "cell_type": "code",
   "execution_count": null,
   "metadata": {},
   "outputs": [],
   "source": [
    "#Instantiate empty DataFrame for Opiod data set\n",
    "opcols   = ['Unnamed: 0', 'STATEFP', 'COUNTYFP', 'YEAR', 'INDICATOR', 'VALUE', \n",
    "            'COUNTY', 'STATE', 'STATEABBREVIATION', 'Numeric']\n",
    "opdf = pd.DataFrame(columns=opcols)\n",
    "\n",
    "#Initialize reader for input file, specify input \"chunk\" size\n",
    "file = 'data/countydata.csv'\n",
    "rdr  = pd.read_csv(file, chunksize=50000)"
   ]
  },
  {
   "cell_type": "code",
   "execution_count": null,
   "metadata": {},
   "outputs": [],
   "source": [
    "# Read input one chunk at a time, convert know value outliers to numeric\n",
    "for chunk in rdr :\n",
    "    chunk['Numeric'] = clean_nan(chunk['VALUE'])\n",
    "    opdf = pd.concat([opdf, chunk])\n",
    "    print(f'Processing chunk {chunk.index[0]} - {chunk.index[-1]}')\n",
    "    \n",
    "print(f'Processing complete, {opdf.shape[0]} records')"
   ]
  },
  {
   "cell_type": "code",
   "execution_count": null,
   "metadata": {},
   "outputs": [],
   "source": [
    "#Still quite a few NaN in the input data\n",
    "pd.to_numeric(opdf['VALUE'], errors='coerce').isna().sum(), opdf['Numeric'].isna().sum()"
   ]
  },
  {
   "cell_type": "code",
   "execution_count": null,
   "metadata": {},
   "outputs": [],
   "source": [
    "typefile = 'data/indicator_types.csv'\n",
    "typedf = pd.read_csv(typefile)\n",
    "typedf.head()"
   ]
  },
  {
   "cell_type": "code",
   "execution_count": null,
   "metadata": {},
   "outputs": [],
   "source": [
    "opdf = opdf.merge(typedf, on='INDICATOR', how='left')\n",
    "opdf.head()"
   ]
  },
  {
   "cell_type": "code",
   "execution_count": null,
   "metadata": {},
   "outputs": [],
   "source": [
    "pop = opdf[opdf['INDICATOR']=='Population'].groupby('STATEABBREVIATION')['Numeric'].sum()\n",
    "deaths = opdf[opdf['INDICATOR']=='drugdeaths'].groupby('STATEABBREVIATION')['Numeric'].sum()"
   ]
  },
  {
   "cell_type": "code",
   "execution_count": null,
   "metadata": {},
   "outputs": [],
   "source": [
    "pop1 = pop/10000"
   ]
  },
  {
   "cell_type": "code",
   "execution_count": null,
   "metadata": {},
   "outputs": [],
   "source": [
    "plt.figure(figsize=(18,8))\n",
    "plt.plot(pop1.index, pop1.values)\n",
    "plt.plot(deaths.index, deaths.values)"
   ]
  },
  {
   "cell_type": "code",
   "execution_count": null,
   "metadata": {},
   "outputs": [],
   "source": []
  }
 ],
 "metadata": {
  "kernelspec": {
   "display_name": "Python 3",
   "language": "python",
   "name": "python3"
  },
  "language_info": {
   "codemirror_mode": {
    "name": "ipython",
    "version": 3
   },
   "file_extension": ".py",
   "mimetype": "text/x-python",
   "name": "python",
   "nbconvert_exporter": "python",
   "pygments_lexer": "ipython3",
   "version": "3.6.5"
  }
 },
 "nbformat": 4,
 "nbformat_minor": 2
}
